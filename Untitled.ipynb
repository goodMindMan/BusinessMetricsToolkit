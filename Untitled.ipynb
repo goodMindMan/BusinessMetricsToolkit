{
 "cells": [
  {
   "cell_type": "code",
   "execution_count": 4,
   "id": "a6d9ae65-8ead-4d2f-a85c-8172ecb459d4",
   "metadata": {},
   "outputs": [],
   "source": [
    "revenue_accounts = { 'ttl_sales' : 1, 'ttl_rev' : 1 }\n",
    "\n",
    "def rev_aggrgt(rev_str):\n",
    "    revenue_accounts['ttl_'+rev_str] +=1\n",
    "    revenue_accounts['ttl_rev'] +=1"
   ]
  },
  {
   "cell_type": "code",
   "execution_count": 6,
   "id": "78b67e70-6014-4d11-9fcf-13cd25b3d1a9",
   "metadata": {},
   "outputs": [
    {
     "name": "stdout",
     "output_type": "stream",
     "text": [
      "{'ttl_sales': 2, 'ttl_rev': 2}\n"
     ]
    }
   ],
   "source": [
    "rev_aggrgt('sales')\n",
    "print(revenue_accounts)"
   ]
  }
 ],
 "metadata": {
  "kernelspec": {
   "display_name": "Python 3 (ipykernel)",
   "language": "python",
   "name": "python3"
  },
  "language_info": {
   "codemirror_mode": {
    "name": "ipython",
    "version": 3
   },
   "file_extension": ".py",
   "mimetype": "text/x-python",
   "name": "python",
   "nbconvert_exporter": "python",
   "pygments_lexer": "ipython3",
   "version": "3.12.3"
  }
 },
 "nbformat": 4,
 "nbformat_minor": 5
}
